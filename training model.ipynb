{
  "nbformat": 4,
  "nbformat_minor": 0,
  "metadata": {
    "colab": {
      "private_outputs": true,
      "provenance": [],
      "gpuType": "T4"
    },
    "kernelspec": {
      "name": "python3",
      "display_name": "Python 3"
    },
    "language_info": {
      "name": "python"
    },
    "gpuClass": "standard",
    "accelerator": "GPU"
  },
  "cells": [
    {
      "cell_type": "code",
      "execution_count": null,
      "metadata": {
        "id": "IJ3Jf48koztg"
      },
      "outputs": [],
      "source": [
        "from google.colab import drive\n",
        "drive.mount(\"/content/drive\")"
      ]
    },
    {
      "cell_type": "code",
      "source": [
        "%cd drive/MyDrive/Classroom/"
      ],
      "metadata": {
        "id": "XKW_BEFPphpJ"
      },
      "execution_count": null,
      "outputs": []
    },
    {
      "cell_type": "code",
      "source": [
        "import tarfile\n",
        "\n",
        "\n",
        "fname = 'fer2013.tar.gz'\n",
        "if fname.endswith(\"tar.gz\"):\n",
        "    tar = tarfile.open(fname, \"r:gz\")\n",
        "    tar.extractall()\n",
        "    tar.close()\n",
        "elif fname.endswith(\"tar\"):\n",
        "    tar = tarfile.open(fname, \"r:\")\n",
        "    tar.extractall()\n",
        "    tar.close()"
      ],
      "metadata": {
        "id": "ZDyRpVySrII2"
      },
      "execution_count": null,
      "outputs": []
    },
    {
      "cell_type": "code",
      "source": [
        "import os\n",
        "import numpy as np\n",
        "import pandas as pd\n",
        "import tensorflow as tf\n",
        "from matplotlib import pyplot\n",
        "from sklearn.model_selection import train_test_split"
      ],
      "metadata": {
        "id": "athigJR9rYNz"
      },
      "execution_count": null,
      "outputs": []
    },
    {
      "cell_type": "code",
      "source": [
        "df=pd.read_csv('fer2013/fer2013.csv')\n",
        "df.head()"
      ],
      "metadata": {
        "id": "acFOox9BsCVQ"
      },
      "execution_count": null,
      "outputs": []
    },
    {
      "cell_type": "code",
      "source": [
        "df.emotion.unique()"
      ],
      "metadata": {
        "id": "1ntVJadcsje4"
      },
      "execution_count": null,
      "outputs": []
    },
    {
      "cell_type": "code",
      "source": [
        "label_to_text = {0:'Abdullah', 1:'Elon', 2:'Jeff', 3:'Bill'} "
      ],
      "metadata": {
        "id": "BYN1hFPKtiq1"
      },
      "execution_count": null,
      "outputs": []
    },
    {
      "cell_type": "code",
      "source": [
        "np.array(df.pixels.loc[0].split(' ')).reshape(48,48)"
      ],
      "metadata": {
        "id": "JLtdDtnrtoF8"
      },
      "execution_count": null,
      "outputs": []
    },
    {
      "cell_type": "code",
      "source": [
        "pyplot.imshow(np.array(df.pixels.loc[0].split(' ')).reshape(48,48).astype('float'))"
      ],
      "metadata": {
        "id": "qZmItShkuTMq"
      },
      "execution_count": null,
      "outputs": []
    },
    {
      "cell_type": "code",
      "source": [
        "fig = pyplot.figure(1, (14, 14))\n",
        "k = 0\n",
        "for label in sorted(df.emotion.unique()):\n",
        "    for j in range(3):\n",
        "        px = df[df.emotion==label].pixels.iloc[k]\n",
        "        px = np.array(px.split(' ')).reshape(48, 48).astype('float32')\n",
        "        k += 1\n",
        "        ax = pyplot.subplot(7, 7, k)\n",
        "        ax.imshow(px)\n",
        "        ax.set_xticks([])\n",
        "        ax.set_yticks([])\n",
        "        ax.set_title(label_to_text[label])\n",
        "        pyplot.tight_layout()\n",
        "  "
      ],
      "metadata": {
        "id": "oY6_1veOug6V"
      },
      "execution_count": null,
      "outputs": []
    },
    {
      "cell_type": "code",
      "source": [
        "img_array= df.pixels.apply(lambda x: np.array(x.split(' ')).reshape(48, 48).astype('float32'))"
      ],
      "metadata": {
        "id": "XZ5sMrJNvNOy"
      },
      "execution_count": null,
      "outputs": []
    },
    {
      "cell_type": "code",
      "source": [
        "img_array = np.stack(img_array,axis=0)"
      ],
      "metadata": {
        "id": "vl4tHDKivpKO"
      },
      "execution_count": null,
      "outputs": []
    },
    {
      "cell_type": "code",
      "source": [
        "img_array.shape"
      ],
      "metadata": {
        "id": "4QD-gGlsv8bY"
      },
      "execution_count": null,
      "outputs": []
    },
    {
      "cell_type": "code",
      "source": [
        "lables = df.emotion.values"
      ],
      "metadata": {
        "id": "aXFchc1bwAo-"
      },
      "execution_count": null,
      "outputs": []
    },
    {
      "cell_type": "code",
      "source": [
        "x_train,x_test,y_train,y_test = train_test_split(img_array,lables,test_size=.1)"
      ],
      "metadata": {
        "id": "7wM2A4LKwS5_"
      },
      "execution_count": null,
      "outputs": []
    },
    {
      "cell_type": "code",
      "source": [
        "x_train.shape,y_train.shape,x_test.shape,y_test.shape"
      ],
      "metadata": {
        "id": "-nlgTR7Wxxre"
      },
      "execution_count": null,
      "outputs": []
    },
    {
      "cell_type": "code",
      "source": [
        "x_train=x_train/255\n",
        "x_test=x_test/255\n"
      ],
      "metadata": {
        "id": "XbE8P2Nnx7FH"
      },
      "execution_count": null,
      "outputs": []
    },
    {
      "cell_type": "code",
      "source": [
        "basemodel=tf.keras.models.Sequential([tf.keras.layers.Conv2D(32,(3,3),activation='relu',input_shape =(48,48,1))\n",
        "                                    ,tf.keras.layers.MaxPool2D(2,2),\n",
        "                                    tf.keras.layers.BatchNormalization(),\n",
        "                                    \n",
        "                                    tf.keras.layers.Conv2D(64,(3,3),activation='relu',input_shape =(48,48,1))\n",
        "                                    ,tf.keras.layers.MaxPool2D(2,2),\n",
        "                                    tf.keras.layers.BatchNormalization(),\n",
        "\n",
        "\n",
        "                                    tf.keras.layers.Conv2D(128,(3,3),activation='relu',input_shape =(48,48,1))\n",
        "                                    ,tf.keras.layers.MaxPool2D(2,2),\n",
        "                                    tf.keras.layers.BatchNormalization(),\n",
        "                                    \n",
        "\n",
        "                                    tf.keras.layers.Flatten(),\n",
        "                                    tf.keras.layers.Dense(128,activation='relu'),\n",
        "                                    tf.keras.layers.Dense(7,activation='softmax')\n",
        "                                    \n",
        "                                    ])"
      ],
      "metadata": {
        "id": "A0Ov5_0zykA_"
      },
      "execution_count": null,
      "outputs": []
    },
    {
      "cell_type": "code",
      "source": [
        "basemodel.compile(optimizer=tf.keras.optimizers.RMSprop(learning_rate=0.0001),\n",
        "                  loss='sparse_categorical_crossentropy',\n",
        "                  metrics=['accuracy'])"
      ],
      "metadata": {
        "id": "nH33dLNBzL3o"
      },
      "execution_count": null,
      "outputs": []
    },
    {
      "cell_type": "code",
      "source": [
        "import os\n",
        "try:\n",
        "  os.mkdir('checkpoint')\n",
        "except:\n",
        "  pass"
      ],
      "metadata": {
        "id": "Mdso89sVzXyJ"
      },
      "execution_count": null,
      "outputs": []
    },
    {
      "cell_type": "code",
      "source": [
        "file_name ='best_model.h5'\n",
        "checkpoint_path=os.path.join('checkpoint',file_name)\n",
        "\n",
        "call_back=tf.keras.callbacks.ModelCheckpoint(filepath=checkpoint_path,\n",
        "                                             monitor='val_accuracy',\n",
        "                                             verbose=1,\n",
        "                                             save_freq=\"epoch\",\n",
        "                                             save_best_only=True,\n",
        "                                             save_weights_only=False,\n",
        "                                             mode='max')"
      ],
      "metadata": {
        "id": "V0LROfY8BlIH"
      },
      "execution_count": null,
      "outputs": []
    },
    {
      "cell_type": "code",
      "source": [
        "basemodel.fit(x_train,y_train,epochs=20,validation_split=0.1,callbacks=call_back)"
      ],
      "metadata": {
        "id": "L9IwlFl6EOId"
      },
      "execution_count": null,
      "outputs": []
    },
    {
      "cell_type": "code",
      "source": [],
      "metadata": {
        "id": "SHas6C6iHPOL"
      },
      "execution_count": null,
      "outputs": []
    }
  ]
}